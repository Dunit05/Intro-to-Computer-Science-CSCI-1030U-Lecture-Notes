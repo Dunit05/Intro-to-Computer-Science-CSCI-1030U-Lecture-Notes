{
 "cells": [
  {
   "cell_type": "code",
   "execution_count": 19,
   "metadata": {},
   "outputs": [],
   "source": [
    "# Strings\n",
    "name = \"Carla Rodriguez\"\n",
    "name_bytes = b\"Carla Rodriguez\""
   ]
  },
  {
   "cell_type": "code",
   "execution_count": 20,
   "metadata": {},
   "outputs": [
    {
     "name": "stdout",
     "output_type": "stream",
     "text": [
      "C\n",
      "z\n"
     ]
    }
   ],
   "source": [
    "# Printing Letters by Index\n",
    "name = \"Carla Rodriguez\"\n",
    "print(name[0])\n",
    "print(name[-1])"
   ]
  },
  {
   "cell_type": "code",
   "execution_count": 21,
   "metadata": {},
   "outputs": [
    {
     "name": "stdout",
     "output_type": "stream",
     "text": [
      "la \n",
      "Carl\n",
      " Rodriguez\n",
      "Carla Rodriguez\n",
      "raR\n",
      "aao\n"
     ]
    }
   ],
   "source": [
    "# Slicing & Stepped Slicing\n",
    "name = \"Carla Rodriguez\"\n",
    "print(name[3:6])\n",
    "print(name[:4])\n",
    "print(name[5:])\n",
    "print(name[:])\n",
    "\n",
    "name = \"Carla Rodriguez\"\n",
    "print(name[2:8:2])\n",
    "print(name[1:10:3])\n"
   ]
  },
  {
   "cell_type": "code",
   "execution_count": 22,
   "metadata": {},
   "outputs": [
    {
     "name": "stdout",
     "output_type": "stream",
     "text": [
      "15\n",
      "CARLA RODRIGUEZ\n",
      "carla rodriguez\n",
      "Carla Rodriguez\n",
      "HiHiHiHiHiHiHiHi\n"
     ]
    }
   ],
   "source": [
    "# String Functions\n",
    "name = \"Carla Rodriguez\"\n",
    "name1 = \"Carla\"\n",
    "name2 = \"Rodriguez\"\n",
    "num = 8\n",
    "print(len(name))\n",
    "print(name.upper())\n",
    "print(name.lower())\n",
    "print(name1 + \" \" + name2)\n",
    "print(\"Hi\" * num)"
   ]
  },
  {
   "cell_type": "code",
   "execution_count": 23,
   "metadata": {},
   "outputs": [
    {
     "name": "stdout",
     "output_type": "stream",
     "text": [
      "C\n",
      "a\n",
      "r\n",
      "l\n",
      "a\n",
      " \n",
      "R\n",
      "o\n",
      "d\n",
      "r\n",
      "i\n",
      "g\n",
      "u\n",
      "e\n",
      "z\n",
      "C\n",
      "a\n",
      "r\n",
      "l\n",
      "a\n",
      " \n",
      "R\n",
      "o\n",
      "d\n",
      "r\n",
      "i\n",
      "g\n",
      "u\n",
      "e\n",
      "z\n"
     ]
    }
   ],
   "source": [
    "# String For Loop\n",
    "name = \"Carla Rodriguez\"\n",
    "for letter in name:\n",
    "\tprint(letter)\n",
    "\t\n",
    "for i in range(len(name)):\n",
    "\tprint(name[i])"
   ]
  },
  {
   "cell_type": "code",
   "execution_count": 24,
   "metadata": {},
   "outputs": [
    {
     "name": "stdout",
     "output_type": "stream",
     "text": [
      "3\n",
      "9\n",
      "[3, 4, 5]\n"
     ]
    }
   ],
   "source": [
    "# Indexing\n",
    "nums = [0,1,2,3,4,5,6,7,8,9]\n",
    "print(nums[3])\n",
    "print(nums[-1])\n",
    "print(nums[3:6])"
   ]
  },
  {
   "cell_type": "code",
   "execution_count": 25,
   "metadata": {},
   "outputs": [
    {
     "name": "stdout",
     "output_type": "stream",
     "text": [
      "[0, 2, 4, 6, 7, 8]\n",
      "[0, 2, 4, 6, 7, 8, 10]\n",
      "[0, 2, 6, 8]\n",
      "[0, 2, 6]\n",
      "[0, 6]\n"
     ]
    }
   ],
   "source": [
    "# Inserting & Appending & Deleting\n",
    "nums = [0,2,4,6,8]\n",
    "nums.insert(4, 7)\n",
    "print(nums)\n",
    "nums.append(10)\n",
    "print(nums)\n",
    "\n",
    "nums = [0,2,4,6,8]\n",
    "nums.remove(4)\n",
    "print(nums)\n",
    "nums.pop()\n",
    "print(nums)\n",
    "nums.pop(1)\n",
    "print(nums)"
   ]
  },
  {
   "cell_type": "code",
   "execution_count": 26,
   "metadata": {},
   "outputs": [
    {
     "name": "stdout",
     "output_type": "stream",
     "text": [
      "[4, 5, 6]\n",
      "[1, 2, 3, 4]\n",
      "[6, 7, 8, 9, 10]\n"
     ]
    }
   ],
   "source": [
    "# Slices & Stepped Slices\n",
    "nums = [1,2,3,4,5,6,7,8,9,10]\n",
    "print(nums[3:6])\n",
    "print(nums[:4])\n",
    "print(nums[5:])\n",
    "print(nums[2:8:2])\n",
    "print(nums[1:10:3])\n"
   ]
  },
  {
   "cell_type": "code",
   "execution_count": 31,
   "metadata": {},
   "outputs": [
    {
     "name": "stdout",
     "output_type": "stream",
     "text": [
      "10\n",
      "10\n",
      "1\n",
      "55\n",
      "5.5\n",
      "[1, 2, 3, 4, 5, 6, 7, 8, 9, 10]\n"
     ]
    }
   ],
   "source": [
    "# List Functions\n",
    "nums = [1,2,3,4,5,6,7,8,9,10]\n",
    "print(len(nums))\n",
    "print(max(nums))\n",
    "print(min(nums))\n",
    "print(sum(nums))\n",
    "print(sum(nums)/len(nums))\n",
    "nums1 = [1,2,3,4,5]\n",
    "nums2 = [6,7,8,9,10]\n",
    "print(nums1 + nums2)"
   ]
  },
  {
   "cell_type": "code",
   "execution_count": 36,
   "metadata": {},
   "outputs": [
    {
     "name": "stdout",
     "output_type": "stream",
     "text": [
      "0\n",
      "1\n",
      "2\n",
      "3\n",
      "4\n",
      "5\n",
      "6\n",
      "7\n",
      "8\n",
      "9\n",
      "0\n",
      "1\n",
      "2\n",
      "3\n",
      "4\n",
      "5\n",
      "6\n",
      "7\n",
      "8\n",
      "9\n",
      "Found three\n",
      "2\n",
      "1\n",
      "1\n",
      "2\n",
      "3\n",
      "4\n",
      "5\n",
      "0\n",
      "1\n",
      "2\n",
      "3\n",
      "4\n",
      "5\n",
      "6\n",
      "7\n",
      "8\n",
      "9\n",
      "1\n",
      "2\n",
      "3\n",
      "4\n",
      "5\n",
      "6\n",
      "7\n"
     ]
    }
   ],
   "source": [
    "# List Loops & Memebership\n",
    "list = [0,1,2,3,4,5,6,7,8,9]\n",
    "for x in list:\n",
    "\tprint(x)\n",
    "\n",
    "for x in range(0,10):\n",
    "\tprint(x)\n",
    "\t\n",
    "if 3 in nums:\n",
    "\tprint('Found three')\n",
    "\t\n",
    "nums = [1,2,3,4,5,6,7,8,9,10]\n",
    "print(nums.index(3))\n",
    "# ! print(nums.index(20)) <-- Index not in list\n",
    "print(nums.count(3))\n",
    "\n",
    "nums = [1,2,3,4,5]\n",
    "for element in nums:\n",
    "\tprint(element)\n",
    "\n",
    "for x in range(0,10):\n",
    "\tprint(x)\n",
    "\n",
    "list = [1,2,3,4,5,6,7]\n",
    "for i in range(len(list)):\n",
    "\tprint(list[i])\n",
    "\n"
   ]
  },
  {
   "cell_type": "code",
   "execution_count": 33,
   "metadata": {},
   "outputs": [
    {
     "name": "stdout",
     "output_type": "stream",
     "text": [
      "[1, 2, 3, 1, 2, 3, 1, 2, 3, 1, 2, 3, 1, 2, 3, 1, 2, 3, 1, 2, 3, 1, 2, 3, 1, 2, 3, 1, 2, 3]\n",
      "[1, 2, 3, 1, 2, 3, 1, 2, 3, 1, 2, 3, 1, 2, 3, 1, 2, 3, 1, 2, 3, 1, 2, 3, 1, 2, 3, 1, 2, 3]\n",
      "['Bob', 'Smith', 'Bob', 'Smith', 'Bob', 'Smith', 'Bob', 'Smith', 'Bob', 'Smith', 'Bob', 'Smith', 'Bob', 'Smith', 'Bob', 'Smith']\n"
     ]
    }
   ],
   "source": [
    "# List Repetition\n",
    "print([1,2,3]*10)\n",
    "print(10*[1,2,3])\n",
    "\n",
    "n = 8\n",
    "print(['Bob', 'Smith'] * n)"
   ]
  },
  {
   "cell_type": "code",
   "execution_count": 37,
   "metadata": {},
   "outputs": [
    {
     "name": "stdout",
     "output_type": "stream",
     "text": [
      "6\n"
     ]
    }
   ],
   "source": [
    "# Matrices\n",
    "list1 = [2,3,4,5]\n",
    "list2 = [2,4,6,8]\n",
    "list3 = [5,4,3,2]\n",
    "matrix1 = [list1, list2, list3]\n",
    "matrix2 = [[1,2,3],[4,5,6],[7,8,9]]\n",
    "print(matrix2[1][2])\n"
   ]
  }
 ],
 "metadata": {
  "kernelspec": {
   "display_name": "Python 3",
   "language": "python",
   "name": "python3"
  },
  "language_info": {
   "codemirror_mode": {
    "name": "ipython",
    "version": 3
   },
   "file_extension": ".py",
   "mimetype": "text/x-python",
   "name": "python",
   "nbconvert_exporter": "python",
   "pygments_lexer": "ipython3",
   "version": "3.11.4"
  },
  "orig_nbformat": 4
 },
 "nbformat": 4,
 "nbformat_minor": 2
}
