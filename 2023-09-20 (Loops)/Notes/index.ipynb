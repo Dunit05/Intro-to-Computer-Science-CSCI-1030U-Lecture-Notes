{
 "cells": [
  {
   "cell_type": "code",
   "execution_count": 1,
   "metadata": {},
   "outputs": [
    {
     "name": "stdout",
     "output_type": "stream",
     "text": [
      "0 is small\n",
      "1 is small\n",
      "2 is small\n",
      "3 is small\n",
      "4 is small\n",
      "5 is small\n",
      "6 is small\n",
      "7 is small\n",
      "8 is small\n",
      "9 is small\n",
      "0 is small\n",
      "1 is small\n",
      "2 is small\n",
      "3 is small\n",
      "4 is small\n",
      "5 is small\n",
      "6 is small\n",
      "7 is small\n",
      "8 is small\n",
      "9 is small\n",
      "0 is small\n",
      "1 is small\n",
      "2 is small\n",
      "3 is small\n",
      "4 is small\n",
      "5 is small\n",
      "6 is small\n",
      "7 is small\n",
      "8 is small\n",
      "9 is small\n"
     ]
    }
   ],
   "source": [
    "# Loops\n",
    "\n",
    "# While loop\n",
    "x = 0\n",
    "while x < 10:\n",
    "\tprint(x, 'is small')\n",
    "\tx = x + 1\n",
    "\t\n",
    "# Exit condition\n",
    "x = 0\n",
    "while x < 10:\n",
    "\tprint(x, 'is small')\n",
    "\tx = x - 1\n",
    "\n",
    "    \n",
    "\n",
    "# For loop\n",
    "for x in [0,1,2,3,4,5,6,7,8,9]:\n",
    "\tprint(f'{x} is small')\n",
    "\n",
    "# or\n",
    "\n",
    "for x in range(10):\n",
    "\tprint(f'{x} is small')\n",
    "\n"
   ]
  },
  {
   "cell_type": "code",
   "execution_count": 4,
   "metadata": {},
   "outputs": [
    {
     "ename": "OverflowError",
     "evalue": "int too large to convert to float",
     "output_type": "error",
     "traceback": [
      "\u001b[1;31m---------------------------------------------------------------------------\u001b[0m",
      "\u001b[1;31mOverflowError\u001b[0m                             Traceback (most recent call last)",
      "\u001b[1;32mc:\\Users\\tommy\\Documents\\Intro-to-Computer-Science-CSCI-1030U-Lecture-Notes\\2023-09-20 (Loops)\\Notes\\index.ipynb Cell 2\u001b[0m line \u001b[0;36m1\n\u001b[0;32m      <a href='vscode-notebook-cell:/c%3A/Users/tommy/Documents/Intro-to-Computer-Science-CSCI-1030U-Lecture-Notes/2023-09-20%20%28Loops%29/Notes/index.ipynb#W1sZmlsZQ%3D%3D?line=6'>7</a>\u001b[0m sin \u001b[39m=\u001b[39m \u001b[39m0\u001b[39m\n\u001b[0;32m      <a href='vscode-notebook-cell:/c%3A/Users/tommy/Documents/Intro-to-Computer-Science-CSCI-1030U-Lecture-Notes/2023-09-20%20%28Loops%29/Notes/index.ipynb#W1sZmlsZQ%3D%3D?line=8'>9</a>\u001b[0m \u001b[39mfor\u001b[39;00m n \u001b[39min\u001b[39;00m \u001b[39mrange\u001b[39m(\u001b[39m1\u001b[39m, \u001b[39m100\u001b[39m):\n\u001b[1;32m---> <a href='vscode-notebook-cell:/c%3A/Users/tommy/Documents/Intro-to-Computer-Science-CSCI-1030U-Lecture-Notes/2023-09-20%20%28Loops%29/Notes/index.ipynb#W1sZmlsZQ%3D%3D?line=9'>10</a>\u001b[0m     sin \u001b[39m+\u001b[39m\u001b[39m=\u001b[39m (\u001b[39m-\u001b[39;49m\u001b[39m1\u001b[39;49m) \u001b[39m*\u001b[39;49m\u001b[39m*\u001b[39;49m n \u001b[39m*\u001b[39;49m x \u001b[39m*\u001b[39;49m\u001b[39m*\u001b[39;49m (\u001b[39m2\u001b[39;49m \u001b[39m*\u001b[39;49m n \u001b[39m+\u001b[39;49m \u001b[39m1\u001b[39;49m) \u001b[39m/\u001b[39;49m math\u001b[39m.\u001b[39;49mfactorial(\u001b[39m2\u001b[39;49m \u001b[39m*\u001b[39;49m n \u001b[39m+\u001b[39;49m \u001b[39m1\u001b[39;49m)\n\u001b[0;32m     <a href='vscode-notebook-cell:/c%3A/Users/tommy/Documents/Intro-to-Computer-Science-CSCI-1030U-Lecture-Notes/2023-09-20%20%28Loops%29/Notes/index.ipynb#W1sZmlsZQ%3D%3D?line=11'>12</a>\u001b[0m \u001b[39mprint\u001b[39m(\u001b[39mf\u001b[39m\u001b[39m\"\u001b[39m\u001b[39msin(\u001b[39m\u001b[39m{\u001b[39;00mx\u001b[39m}\u001b[39;00m\u001b[39m) is approximately \u001b[39m\u001b[39m{\u001b[39;00msin\u001b[39m}\u001b[39;00m\u001b[39m\"\u001b[39m)\n",
      "\u001b[1;31mOverflowError\u001b[0m: int too large to convert to float"
     ]
    }
   ],
   "source": [
    "# Write the code which, given a positive floating point number x, returns a value that is close to the value of sin x\n",
    "# Use the following convergent series: sin x = x - x^3/3! + x^5/5! - x^7/7! + ...\n",
    "\n",
    "import math\n",
    "\n",
    "x = float(input(\"Enter a positive floating point number: \"))\n",
    "sin = x\n",
    "\n",
    "for n in range(1, 100):\n",
    "    sin += (-1) ** n * x ** (2 * n + 1) / math.factorial(2 * n + 1)\n",
    "\n",
    "print(f\"sin({x}) is approximately {sin}\")"
   ]
  },
  {
   "cell_type": "code",
   "execution_count": null,
   "metadata": {},
   "outputs": [],
   "source": [
    " "
   ]
  }
 ],
 "metadata": {
  "kernelspec": {
   "display_name": "Python 3",
   "language": "python",
   "name": "python3"
  },
  "language_info": {
   "codemirror_mode": {
    "name": "ipython",
    "version": 3
   },
   "file_extension": ".py",
   "mimetype": "text/x-python",
   "name": "python",
   "nbconvert_exporter": "python",
   "pygments_lexer": "ipython3",
   "version": "3.11.4"
  },
  "orig_nbformat": 4
 },
 "nbformat": 4,
 "nbformat_minor": 2
}
