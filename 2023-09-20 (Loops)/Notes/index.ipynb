{
 "cells": [
  {
   "cell_type": "code",
   "execution_count": 2,
   "metadata": {},
   "outputs": [
    {
     "name": "stdout",
     "output_type": "stream",
     "text": [
      "0 is small\n",
      "1 is small\n",
      "2 is small\n",
      "3 is small\n",
      "4 is small\n",
      "5 is small\n",
      "6 is small\n",
      "7 is small\n",
      "8 is small\n",
      "9 is small\n",
      "0 is small\n",
      "1 is small\n",
      "2 is small\n",
      "3 is small\n",
      "4 is small\n",
      "5 is small\n",
      "6 is small\n",
      "7 is small\n",
      "8 is small\n",
      "9 is small\n",
      "0 is small\n",
      "1 is small\n",
      "2 is small\n",
      "3 is small\n",
      "4 is small\n",
      "5 is small\n",
      "6 is small\n",
      "7 is small\n",
      "8 is small\n",
      "9 is small\n",
      "0 is small\n"
     ]
    }
   ],
   "source": [
    "# Loops\n",
    "\n",
    "# *** c++ version\n",
    "# int x = 0;\n",
    "# while (x < 10) {\n",
    "# \tcout << x << \" is small\";\n",
    "# \tx = x + 1;\n",
    "# }\n",
    "\n",
    "\n",
    "# *** python version\n",
    "# While Loop\n",
    "x = 0\n",
    "while x < 10:\n",
    "\tprint(x, 'is small')\n",
    "\tx = x + 1\n",
    "\n",
    "# For Loop\n",
    "for x in [0,1,2,3,4,5,6,7,8,9]:\n",
    "\tprint(f'{x} is small')\n",
    "\n",
    "# or\n",
    "\n",
    "for x in range(10):\n",
    "\tprint(f'{x} is small')\n",
    "\n",
    "\n",
    "# Loops Exit Conditions \n",
    "x = 0\n",
    "while x < 10:\n",
    "\tprint(x, 'is small')\n",
    "\tx = x - 1\n",
    "\tif x < 0:\n",
    "\t\tbreak"
   ]
  }
 ],
 "metadata": {
  "kernelspec": {
   "display_name": "Python 3",
   "language": "python",
   "name": "python3"
  },
  "language_info": {
   "codemirror_mode": {
    "name": "ipython",
    "version": 3
   },
   "file_extension": ".py",
   "mimetype": "text/x-python",
   "name": "python",
   "nbconvert_exporter": "python",
   "pygments_lexer": "ipython3",
   "version": "3.11.4"
  },
  "orig_nbformat": 4
 },
 "nbformat": 4,
 "nbformat_minor": 2
}
