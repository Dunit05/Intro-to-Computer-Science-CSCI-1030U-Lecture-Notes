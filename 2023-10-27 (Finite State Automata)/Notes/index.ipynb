{
 "cells": [
  {
   "cell_type": "code",
   "execution_count": null,
   "metadata": {},
   "outputs": [],
   "source": [
    "# Finite state automata (FSA)\n",
    "# A finite state automaton (also called a finite state machine) is a model that describes transitions between a fixed number of states\n",
    "\n",
    "\n",
    "# Finite state automata types\n",
    "# Deterministic (DFA)\n",
    "# This is the kind we’ve been dealing with\n",
    "# For each input, there is exactly one matching transition\n",
    "# Push-down automata (PDA)\n",
    "# A DFA that also has a stack; stores more history than just the state\n",
    "# Can recognize deterministic context-free languages\n",
    "# Non-deterministic (NFA)\n",
    "# For each input, there may be multiple matching transitions\n",
    "# We may choose between them randomly, or choose and then backtrack\n",
    "# Can recognize all context-free languages\n",
    "\n",
    "\n",
    "# Parsers (lexical analysis)\n",
    "# Conway's Game of Life\n"
   ]
  }
 ],
 "metadata": {
  "language_info": {
   "name": "python"
  }
 },
 "nbformat": 4,
 "nbformat_minor": 2
}
