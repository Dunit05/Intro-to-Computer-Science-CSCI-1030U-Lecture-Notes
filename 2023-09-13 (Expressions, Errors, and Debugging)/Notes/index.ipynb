{
 "cells": [
  {
   "cell_type": "code",
   "execution_count": 1,
   "metadata": {},
   "outputs": [
    {
     "name": "stdout",
     "output_type": "stream",
     "text": [
      "full_name: Tommy Michailidis\n"
     ]
    }
   ],
   "source": [
    "# printing with catenation\n",
    "\n",
    "first_name = \"Tommy\"\n",
    "last_name = \"Michailidis\"\n",
    "full_name = first_name + \" \" + last_name\n",
    "print(f'full_name: {full_name}')"
   ]
  },
  {
   "cell_type": "code",
   "execution_count": 2,
   "metadata": {},
   "outputs": [
    {
     "name": "stdout",
     "output_type": "stream",
     "text": [
      "cs + course_code: CSCI 1030\n"
     ]
    }
   ],
   "source": [
    "# type casting\n",
    "\n",
    "course_code = 1030\n",
    "cs = \"CSCI\"\n",
    "print(f'cs + course_code: {cs} {course_code}')\n",
    "# print(f\"{{cs + course_code}}\") <- this will not work \n",
    "# print(f\"{cs + str(course_code)}\") <- Insted use this, type casting"
   ]
  },
  {
   "cell_type": "code",
   "execution_count": 3,
   "metadata": {},
   "outputs": [
    {
     "name": "stdout",
     "output_type": "stream",
     "text": [
      "greeting * 2 = 'HiHi'\n",
      "--------------------------------------------------\n"
     ]
    }
   ],
   "source": [
    "# multiplication of strings\n",
    "\n",
    "greeting = \"Hi\"\n",
    "print(f\"{greeting * 2 = }\")\n",
    "print(\"-\"*50)"
   ]
  },
  {
   "cell_type": "code",
   "execution_count": 4,
   "metadata": {},
   "outputs": [
    {
     "name": "stdout",
     "output_type": "stream",
     "text": [
      "word[1] = 'e'\n"
     ]
    }
   ],
   "source": [
    "# print the letter 'e' from the string \"Hello\"\n",
    "\n",
    "word = \"Hello\"\n",
    "print(f\"{word[1] = }\")"
   ]
  }
 ],
 "metadata": {
  "kernelspec": {
   "display_name": "Python 3",
   "language": "python",
   "name": "python3"
  },
  "language_info": {
   "codemirror_mode": {
    "name": "ipython",
    "version": 3
   },
   "file_extension": ".py",
   "mimetype": "text/x-python",
   "name": "python",
   "nbconvert_exporter": "python",
   "pygments_lexer": "ipython3",
   "version": "3.11.4"
  },
  "orig_nbformat": 4
 },
 "nbformat": 4,
 "nbformat_minor": 2
}
