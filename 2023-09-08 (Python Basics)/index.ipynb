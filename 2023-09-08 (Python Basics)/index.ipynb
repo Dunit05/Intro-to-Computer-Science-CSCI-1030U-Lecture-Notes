{
 "cells": [
  {
   "cell_type": "code",
   "execution_count": 3,
   "metadata": {},
   "outputs": [
    {
     "name": "stdout",
     "output_type": "stream",
     "text": [
      "Hello,+Tommy+!END\n",
      "Hello, Tommy!\n",
      "2 + 3 5\n"
     ]
    }
   ],
   "source": [
    "name = \"Tommy\"\n",
    "print(\"Hello,\", name, \"!\", sep=\"+\", end=\"END\\n\")\n",
    "print(f\"Hello, {name}!\")\n",
    "print(f\"2 + 3 = {2 + 3}\")\n"
   ]
  },
  {
   "cell_type": "code",
   "execution_count": 5,
   "metadata": {},
   "outputs": [
    {
     "name": "stdout",
     "output_type": "stream",
     "text": [
      "You are 18 years old.\n"
     ]
    }
   ],
   "source": [
    "age = input(\"How old are you? \")\n",
    "print(f\"You are {age} years old.\")"
   ]
  },
  {
   "cell_type": "code",
   "execution_count": 7,
   "metadata": {},
   "outputs": [
    {
     "name": "stdout",
     "output_type": "stream",
     "text": [
      "You will be 19 years old next year.\n"
     ]
    }
   ],
   "source": [
    "age = int(input(\"How old are you? \"))\n",
    "print(f\"You will be {age + 1} years old next year.\")"
   ]
  },
  {
   "cell_type": "code",
   "execution_count": 12,
   "metadata": {},
   "outputs": [
    {
     "name": "stdout",
     "output_type": "stream",
     "text": [
      "<class 'bool'>\n",
      "am_i_hungry_type = <class 'bool'>\n"
     ]
    }
   ],
   "source": [
    "am_i_hungry = True\n",
    "\n",
    "am_i_hungry_type = type(am_i_hungry)\n",
    "print(am_i_hungry_type)\n",
    "print(f\"{am_i_hungry_type = }\")"
   ]
  },
  {
   "cell_type": "code",
   "execution_count": 13,
   "metadata": {},
   "outputs": [
    {
     "name": "stdout",
     "output_type": "stream",
     "text": [
      "28300.0\n"
     ]
    }
   ],
   "source": [
    "account_value = 5000\n",
    "intrest_value = 5.66\n",
    "print(f\"Your account balance is ${account_value * intrest_value}\")"
   ]
  }
 ],
 "metadata": {
  "kernelspec": {
   "display_name": "Python 3",
   "language": "python",
   "name": "python3"
  },
  "language_info": {
   "codemirror_mode": {
    "name": "ipython",
    "version": 3
   },
   "file_extension": ".py",
   "mimetype": "text/x-python",
   "name": "python",
   "nbconvert_exporter": "python",
   "pygments_lexer": "ipython3",
   "version": "3.11.4"
  },
  "orig_nbformat": 4
 },
 "nbformat": 4,
 "nbformat_minor": 2
}
