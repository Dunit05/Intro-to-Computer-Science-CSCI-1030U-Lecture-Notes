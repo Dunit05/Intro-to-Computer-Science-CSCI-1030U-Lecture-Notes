{
 "cells": [
  {
   "cell_type": "code",
   "execution_count": 1,
   "metadata": {},
   "outputs": [
    {
     "name": "stdout",
     "output_type": "stream",
     "text": [
      "Error:  string index out of range\n"
     ]
    }
   ],
   "source": [
    "# Exceptions\n",
    "# try:\n",
    "# \t# do something that could raise an exception\n",
    "# except  as err:\n",
    "# \tprint('Error:  ', err)\n",
    "\n",
    "string = 'hello'\n",
    "try:\n",
    "    string[5]\n",
    "except IndexError as err:\n",
    "    print('Error: ', err)\n"
   ]
  },
  {
   "cell_type": "code",
   "execution_count": null,
   "metadata": {},
   "outputs": [],
   "source": [
    "# Testing & Unit Testing\n",
    "# class Pet_Test(unittest.TestCase):\n",
    "# \tdef test_speak(self):\n",
    "#     \tpet1 = Pet('Cat', 'Whiskers')\n",
    "#     \tself.assertEqual(pet1.speak(), 'Meow!')\n",
    "\n",
    "# \tpet2 = Pet('Dog', 'Spike')\n",
    "#     \tself.assertTrue(pet2.speak() == 'Woof!')"
   ]
  }
 ],
 "metadata": {
  "kernelspec": {
   "display_name": "Python 3",
   "language": "python",
   "name": "python3"
  },
  "language_info": {
   "codemirror_mode": {
    "name": "ipython",
    "version": 3
   },
   "file_extension": ".py",
   "mimetype": "text/x-python",
   "name": "python",
   "nbconvert_exporter": "python",
   "pygments_lexer": "ipython3",
   "version": "3.11.4"
  }
 },
 "nbformat": 4,
 "nbformat_minor": 2
}
