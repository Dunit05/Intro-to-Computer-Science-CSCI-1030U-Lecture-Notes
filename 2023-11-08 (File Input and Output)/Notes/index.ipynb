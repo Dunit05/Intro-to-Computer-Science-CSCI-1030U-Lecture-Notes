{
 "cells": [
  {
   "cell_type": "code",
   "execution_count": null,
   "metadata": {},
   "outputs": [],
   "source": [
    "# File Input/Output\n",
    "\n",
    "# Opening a file\n",
    "file = open('data.txt', 'r+') # r = read, w = write, a = append, r+ = read and write\n",
    "\n",
    "# Reading from a file\n",
    "# file.read()\t    Read the entire file (into a string for text files)\n",
    "# file.seek(10)\t\tJump to the 10th character/byte\n",
    "# file.read(5)\t\tRead 5 characters/bytes\n",
    "# file.readline()\tRead 1 line (newline separated)"
   ]
  },
  {
   "cell_type": "code",
   "execution_count": 1,
   "metadata": {},
   "outputs": [
    {
     "name": "stdout",
     "output_type": "stream",
     "text": [
      "Lorem ipsum dolor sit amet, consectetur adipiscing elit.\n"
     ]
    }
   ],
   "source": [
    "file = open(\"read.txt\", \"r\")\n",
    "for line in file:\n",
    "    print(line)\n",
    "file.close()\n",
    "\n",
    "# OR\n",
    "# with open('data.txt', 'r') as file:\n",
    "#   for line in file:\n",
    "# \t\tprint(line)"
   ]
  },
  {
   "cell_type": "code",
   "execution_count": 2,
   "metadata": {},
   "outputs": [],
   "source": [
    "items = [1,2,3,4,5]\n",
    "with open('write.txt', 'w') as file:\n",
    "    for item in items:\n",
    "            file.write(str(item) + '\\n')"
   ]
  },
  {
   "cell_type": "code",
   "execution_count": 5,
   "metadata": {},
   "outputs": [
    {
     "name": "stdout",
     "output_type": "stream",
     "text": [
      "{'sid': '100000001', 'first_name': 'John', 'last_name': 'Doe', 'email': 'John@Doe.com'}\n"
     ]
    }
   ],
   "source": [
    "# Reading and writing JSON files\n",
    "import json\n",
    "\n",
    "with open(\"read.json\", \"r\") as file:\n",
    "    carla = json.load(file)\n",
    "    print(carla)\n",
    "\n",
    "carla = {\n",
    "    \"sid\": \"100000001\",\n",
    "    \"first_name\": \"Carla\",\n",
    "    \"last_name\": \"Rodriguez\",\n",
    "    \"grades\": [\"100.0\", \"90.0\", \"83.0\"],\n",
    "}\n",
    "with open(\"carla_output.json\", \"w\") as file:\n",
    "    json.dump(carla, file)"
   ]
  }
 ],
 "metadata": {
  "kernelspec": {
   "display_name": "Python 3",
   "language": "python",
   "name": "python3"
  },
  "language_info": {
   "codemirror_mode": {
    "name": "ipython",
    "version": 3
   },
   "file_extension": ".py",
   "mimetype": "text/x-python",
   "name": "python",
   "nbconvert_exporter": "python",
   "pygments_lexer": "ipython3",
   "version": "3.11.4"
  }
 },
 "nbformat": 4,
 "nbformat_minor": 2
}
