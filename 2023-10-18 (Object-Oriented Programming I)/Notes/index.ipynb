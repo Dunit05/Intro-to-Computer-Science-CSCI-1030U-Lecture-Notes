{
 "cells": [
  {
   "cell_type": "code",
   "execution_count": 5,
   "metadata": {},
   "outputs": [
    {
     "name": "stdout",
     "output_type": "stream",
     "text": [
      "gpu1.get_rating() = 'Medium'\n"
     ]
    }
   ],
   "source": [
    "# Object Oriented Programming\n",
    "\n",
    "# Classes and Objects\n",
    "\n",
    "class GPU:\n",
    "    # Price\n",
    "    # Memory\n",
    "    # Number of Cores\n",
    "    # Clock Speed\n",
    "\n",
    "    def __init__(self, price, memory, cores, speed):\n",
    "        self.price = price\n",
    "        self.memory = memory\n",
    "        self.cores = cores\n",
    "        self.speed = speed\n",
    "\n",
    "    def set_price(self, price):\n",
    "        self.price = price\n",
    "\n",
    "    def get_price(self):\n",
    "        return self.price\n",
    "    \n",
    "    def set_memory(self, memory):\n",
    "        self.memory = memory\n",
    "\n",
    "    def get_memory(self):\n",
    "        return self.memory\n",
    "    \n",
    "    def set_cores(self, cores):\n",
    "        self.cores = cores\n",
    "\n",
    "    def get_cores(self):\n",
    "        return self.cores\n",
    "    \n",
    "    def get_rating(self):\n",
    "        if self.get_cores() < 1000:\n",
    "            return \"Low\"\n",
    "        elif self.get_cores() < 2000:\n",
    "            return \"Medium\"\n",
    "        else:\n",
    "            return \"High\"\n",
    "        \n",
    "    def __str__(self):\n",
    "        return \"Price: \" + str(self.price) + \"\\nMemory: \" + str(self.memory) + \"\\nCores: \" + str(self.cores) + \"\\nSpeed: \" + str(self.speed)\n",
    "    \n",
    "gpu1 = GPU(100, 1000, 1000, 1000)\n",
    "print(f\"{gpu1.get_rating() = }\")\n"
   ]
  }
 ],
 "metadata": {
  "kernelspec": {
   "display_name": "Python 3",
   "language": "python",
   "name": "python3"
  },
  "language_info": {
   "codemirror_mode": {
    "name": "ipython",
    "version": 3
   },
   "file_extension": ".py",
   "mimetype": "text/x-python",
   "name": "python",
   "nbconvert_exporter": "python",
   "pygments_lexer": "ipython3",
   "version": "3.11.4"
  }
 },
 "nbformat": 4,
 "nbformat_minor": 2
}
