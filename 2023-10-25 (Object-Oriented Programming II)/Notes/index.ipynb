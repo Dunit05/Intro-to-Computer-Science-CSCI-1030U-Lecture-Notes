{
 "cells": [
  {
   "cell_type": "code",
   "execution_count": null,
   "metadata": {},
   "outputs": [],
   "source": [
    "# Inheritance and Polymorphism is a way to reuse code and make it more readable.\n",
    "# Inheritance is a way to form new classes using classes that have already been defined.\n",
    "# Polymorphism is a way to share the same method names between classes.\n",
    "\n",
    "# Inheritance\n",
    "\n",
    "class Course:\n",
    "    def __init__(self, code, name):\n",
    "        self.code = code\n",
    "        self.name = name\n",
    "    \n",
    "    def get_code(self):\n",
    "        return self.code\n",
    "    \n",
    "    def set_code(self, code):\n",
    "        self.code = code\n",
    "    \n",
    "    def get_name(self):\n",
    "        return self.name\n",
    "    \n",
    "    def set_name(self, name):\n",
    "        self.name = name   \n",
    "\n",
    "class OnlineCourse(Course):\n",
    "   def __init__(self, code, name):\n",
    "      super().__init__(self, code, name)\n",
    "      self.web_address = \"\"\n",
    "      self.open_to_public = False\n",
    "\n",
    "   def get_web_address(self):\n",
    "      return self.web_address\n",
    "\n",
    "   def set_web_address(self, web_address):\n",
    "      self.web_address = web_address\n",
    "\n",
    "   def is_open_to_public(self):\n",
    "      return self.open_to_public\n",
    "\n",
    "   def set_open_to_public(self, open_to_public):\n",
    "      self.open_to_public = open_to_public\n",
    "\n",
    "\n",
    "# Polymorphism\n",
    "\n",
    "# printers = [\n",
    "#   InkjetPrinter('Inkblob', 'Inker 2000', '201.74.138.44'),\n",
    "#   LaserPrinter('Laserdude', 'Laserbot 340', '192.77.31.109')\n",
    "# ]\n",
    "# for printer in printers:\n",
    "# \tprinter.print(document)\n"
   ]
  },
  {
   "cell_type": "code",
   "execution_count": null,
   "metadata": {},
   "outputs": [],
   "source": [
    "# Method Resolution\n",
    "\n",
    "# Python uses dynamic binding to determine which method is supposed to be called\n",
    "# It looks at the class that defined the object first\n",
    "# If that class doesn't define a method that matches, it then looks at the parent class\n",
    "# This continues up the hierarchy of classes until a match is found\n"
   ]
  },
  {
   "cell_type": "code",
   "execution_count": null,
   "metadata": {},
   "outputs": [],
   "source": [
    "# Multiple Inheritance\n",
    "\n",
    "# Classes can inherit from multiple parent classes\n",
    "\n",
    "class Printer:\n",
    "    pass\n",
    "\n",
    "class Scanner:\n",
    "    pass\n",
    "\n",
    "class AllInOne(Printer, Scanner):\n",
    "    def __init__(self):\n",
    "        Printer.__init__(self)\n",
    "        Scanner.__init__(self)\n",
    "\n"
   ]
  }
 ],
 "metadata": {
  "kernelspec": {
   "display_name": "Python 3",
   "language": "python",
   "name": "python3"
  },
  "language_info": {
   "codemirror_mode": {
    "name": "ipython",
    "version": 3
   },
   "file_extension": ".py",
   "mimetype": "text/x-python",
   "name": "python",
   "nbconvert_exporter": "python",
   "pygments_lexer": "ipython3",
   "version": "3.11.4"
  }
 },
 "nbformat": 4,
 "nbformat_minor": 2
}
