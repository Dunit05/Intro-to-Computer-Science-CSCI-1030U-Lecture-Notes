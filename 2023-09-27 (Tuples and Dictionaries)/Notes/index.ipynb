{
 "cells": [
  {
   "cell_type": "code",
   "execution_count": 18,
   "metadata": {},
   "outputs": [
    {
     "name": "stdout",
     "output_type": "stream",
     "text": [
      "('Cheyenne Young', '2023/09/13', 408.51)\n",
      "('Webcam', 39.99)\n",
      "(3000, 17.81, 13, 50.0)\n",
      "0 5\n",
      "customer[0] = 'Cheyenne Young'\n",
      "product[1] = 39.99\n",
      "trial[2] = 13\n",
      "customer[0:2] = ('Cheyenne Young', '2023/09/13')\n",
      "0 5\n",
      "5 0\n",
      "Cheyenne Young\n",
      "2023/09/13\n",
      "408.51\n"
     ]
    }
   ],
   "source": [
    "# Tuple\n",
    "# Tuple is a collection which is ordered and unchangeable. Allows duplicate members.\n",
    "\n",
    "# Create and Print a Tuple\n",
    "customer = \"Cheyenne Young\", \"2023/09/13\", 408.51\n",
    "product = \"Webcam\", 39.99\n",
    "trial = 3000, 17.81, 13, 50.0\n",
    "x,y = 0,5\n",
    "\n",
    "print(customer)\n",
    "print(product)\n",
    "print(trial)\n",
    "print(x,y)\n",
    "\n",
    "# Access Tuple Items\n",
    "print(f'{customer[0] = }')\n",
    "print(f'{product[1] = }')\n",
    "print(f'{trial[2] = }')\n",
    "print(f'{customer[0:2] = }')\n",
    "\n",
    "# Swaping Variables\n",
    "print(x, y)\n",
    "x, y = y, x\n",
    "print(x, y)\n",
    "\n",
    "# Iterate through a Tuple\n",
    "for item in customer:\n",
    "    print(item)"
   ]
  },
  {
   "cell_type": "code",
   "execution_count": 16,
   "metadata": {},
   "outputs": [
    {
     "name": "stdout",
     "output_type": "stream",
     "text": [
      "{'name': 'Chad Witherspoon', 'join_date': '2013/12/09', 'balance': 408.51}\n",
      "Chad Witherspoon\n",
      "408.51\n",
      "name\n",
      "join_date\n",
      "balance\n",
      "Names ArithmeticError\n",
      "Join Date 2013/12/09\n",
      "Balance 408.51\n"
     ]
    }
   ],
   "source": [
    "# Dictionaries\n",
    "# A dictionary is a collection which is unordered, changeable and indexed. In Python dictionaries are written with curly brackets, and they have keys and values.\n",
    "\n",
    "# Create and Print a Dictionary\n",
    "customer = {\n",
    "  'name': 'Chad Witherspoon', # key: value\n",
    "  'join_date': '2013/12/09',  # key: value\n",
    "  'balance': 408.51 # key: value\n",
    "}\n",
    "\n",
    "customers = {\n",
    "  \"names\": \"Chad Witherspoon\", #key: value\n",
    "  \"join_date\": \"2013/12/09\", #key: value\n",
    "  \"balance\": 408.51 #key: value\n",
    "}\n",
    "\n",
    "print(customer)\n",
    "\n",
    "# Printing the value via key\n",
    "print(customer['name'])\n",
    "print(customer['balance'])\n",
    "\n",
    "# Iterating over a dictionary\n",
    "for customer in customer:\n",
    "    print(customer)\n",
    "\n",
    "for key, value in customers.items():\n",
    "    print(key, value)"
   ]
  }
 ],
 "metadata": {
  "kernelspec": {
   "display_name": "Python 3",
   "language": "python",
   "name": "python3"
  },
  "language_info": {
   "codemirror_mode": {
    "name": "ipython",
    "version": 3
   },
   "file_extension": ".py",
   "mimetype": "text/x-python",
   "name": "python",
   "nbconvert_exporter": "python",
   "pygments_lexer": "ipython3",
   "version": "3.11.4"
  },
  "orig_nbformat": 4
 },
 "nbformat": 4,
 "nbformat_minor": 2
}
