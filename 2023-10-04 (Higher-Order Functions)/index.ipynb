{
 "cells": [
  {
   "cell_type": "code",
   "execution_count": 3,
   "metadata": {},
   "outputs": [
    {
     "name": "stdout",
     "output_type": "stream",
     "text": [
      "1\n",
      "2\n",
      "3\n",
      "[15.555555555555555, 21.11111111111111, 26.666666666666668, 32.22222222222222, 37.77777777777778]\n"
     ]
    }
   ],
   "source": [
    "# Higher-Order Functions are functions that operate on other functions, either by taking them as arguments or by returning them. In simple terms, A Higher-Order function is a function that receives a function as an argument or returns the function as output.\n",
    "\n",
    "# Example 1: Passing a function as an argument\n",
    "def traverse(elements, op):\n",
    "   for element in elements:\n",
    "      op(element)\n",
    "\n",
    "def output(x):\n",
    "   print(x)\n",
    "\n",
    "traverse([1,2,3], output)\n",
    "\n",
    "# Map function\n",
    "def ftoc(f):\n",
    "\treturn (f - 32) * 5 / 9\n",
    "\n",
    "f_temps = [60.0, 70.0, 80.0, 90.0, 100.0]\n",
    "c_temps = map(ftoc, f_temps)\n",
    "print(list(c_temps))\n",
    "\n",
    "# Using lambda\n",
    "# f_temps = [60.0, 70.0, 80.0, 90.0, 100.0]\n",
    "# c_temps = map(lambda f: (f - 32) * 5 / 9, f_temps)\n",
    "# print(list(c_temps))\n",
    "\n",
    "# Reduce function below - reduce is a function that collapses (reduces) values from a list into a single value (called foldr in some languages)\n",
    "# Filter function below - filter is a function that eliminates (filters) items based on some condition\n"
   ]
  },
  {
   "cell_type": "code",
   "execution_count": 5,
   "metadata": {},
   "outputs": [
    {
     "name": "stdout",
     "output_type": "stream",
     "text": [
      "15\n"
     ]
    }
   ],
   "source": [
    "#  Reduce function\n",
    "from functools import reduce\n",
    "\n",
    "def add(x, y):\n",
    "    return x + y\n",
    "\n",
    "numbers = [1, 2, 3, 4, 5]\n",
    "result = reduce(add, numbers)\n",
    "print(result)"
   ]
  },
  {
   "cell_type": "code",
   "execution_count": null,
   "metadata": {},
   "outputs": [],
   "source": [
    "# Filter function\n",
    "\n",
    "def is_even(x):\n",
    "    return x % 2 == 0\n",
    "\n",
    "numbers = [1, 2, 3, 4, 5]\n",
    "result = filter(is_even, numbers)\n",
    "print(list(result))"
   ]
  },
  {
   "cell_type": "code",
   "execution_count": 8,
   "metadata": {},
   "outputs": [
    {
     "name": "stdout",
     "output_type": "stream",
     "text": [
      "4\n",
      "3\n",
      "2\n",
      "1\n"
     ]
    }
   ],
   "source": [
    "# Stacks are linear data structures that follow the Last In First Out (LIFO) principle. The last item to be inserted into a stack is the first one to be deleted from it. It is built using the array data structure, and hence, it is also known as the array implementation of the stack.\n",
    "# ! Visualize Stack: https://visualgo.net/en/list\n",
    "# Inertion/Deletion: push() / pop()\n",
    "\n",
    "class Stack:\n",
    "    def __init__(self):\n",
    "        self.items = []\n",
    "\n",
    "    def push(self, item):\n",
    "        self.items.append(item)\n",
    "\n",
    "    def pop(self):\n",
    "        return self.items.pop()\n",
    "\n",
    "    def is_empty(self):\n",
    "        return len(self.items) == 0\n",
    "\n",
    "stack = Stack()\n",
    "stack.push(1)\n",
    "stack.push(2)\n",
    "stack.push(3)\n",
    "stack.push(4)\n",
    "while not stack.is_empty():\n",
    "    print(stack.pop())\n",
    "\n"
   ]
  }
 ],
 "metadata": {
  "kernelspec": {
   "display_name": "Python 3",
   "language": "python",
   "name": "python3"
  },
  "language_info": {
   "codemirror_mode": {
    "name": "ipython",
    "version": 3
   },
   "file_extension": ".py",
   "mimetype": "text/x-python",
   "name": "python",
   "nbconvert_exporter": "python",
   "pygments_lexer": "ipython3",
   "version": "3.11.4"
  },
  "orig_nbformat": 4
 },
 "nbformat": 4,
 "nbformat_minor": 2
}
