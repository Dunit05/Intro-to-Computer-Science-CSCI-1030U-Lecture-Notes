{
 "cells": [
  {
   "cell_type": "code",
   "execution_count": 1,
   "metadata": {},
   "outputs": [
    {
     "name": "stdout",
     "output_type": "stream",
     "text": [
      "Small value\n"
     ]
    }
   ],
   "source": [
    "# Conditionals\n",
    "value = 5\n",
    "\n",
    "# ** C++ Version\n",
    "# if (value < 10) {\n",
    "# \tcout << \"Small\";\n",
    "# } else if (value < 20) {\n",
    "# \tcout << \"Medium\";\n",
    "# } else {\n",
    "# \tcout << \"Large\";\n",
    "# }\n",
    "\n",
    "\n",
    "# ** Python Version\n",
    "# if, elif, else\n",
    "if value < 10:\n",
    "\tprint('Small')\n",
    "elif value < 20:\n",
    "\tprint('Medium')\n",
    "else:\n",
    "\tprint('Large')\n"
   ]
  }
 ],
 "metadata": {
  "kernelspec": {
   "display_name": "Python 3",
   "language": "python",
   "name": "python3"
  },
  "language_info": {
   "codemirror_mode": {
    "name": "ipython",
    "version": 3
   },
   "file_extension": ".py",
   "mimetype": "text/x-python",
   "name": "python",
   "nbconvert_exporter": "python",
   "pygments_lexer": "ipython3",
   "version": "3.11.4"
  },
  "orig_nbformat": 4
 },
 "nbformat": 4,
 "nbformat_minor": 2
}
