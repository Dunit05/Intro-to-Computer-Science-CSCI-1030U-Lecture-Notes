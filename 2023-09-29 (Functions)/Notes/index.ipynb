{
 "cells": [
  {
   "cell_type": "code",
   "execution_count": 2,
   "metadata": {},
   "outputs": [
    {
     "name": "stdout",
     "output_type": "stream",
     "text": [
      "Hello from a function\n",
      "2.0\n"
     ]
    }
   ],
   "source": [
    "# Type void function\n",
    "def my_function():\n",
    "    print(\"Hello from a function\")\n",
    "\n",
    "my_function() # call the function\n",
    "\n",
    "# Type return function\n",
    "def my_function_two():\n",
    "    num = 10 / 5\n",
    "    return num\n",
    "\n",
    "answer = my_function_two() # call the function\n",
    "print(f'The answer is {answer}')\n",
    "\n",
    "# Type return function with parameter\n",
    "def my_function_three(num):\n",
    "    return num * 2\n",
    "\n",
    "answer = my_function_three(10) # call the function\n",
    "print(f'The answer is {answer}')\n"
   ]
  },
  {
   "cell_type": "code",
   "execution_count": 3,
   "metadata": {},
   "outputs": [
    {
     "name": "stdout",
     "output_type": "stream",
     "text": [
      "The answer is 20\n",
      "The answer is [20]\n"
     ]
    }
   ],
   "source": [
    "# Pass by value\n",
    "def my_function_four(num):\n",
    "    num = num * 2\n",
    "    return num\n",
    "\n",
    "num = 10\n",
    "answer = my_function_four(num)\n",
    "print(f'The answer is {answer}')\n",
    "\n",
    "# Pass by reference\n",
    "def my_function_five(num):\n",
    "    num[0] = num[0] * 2\n",
    "    return num\n",
    "\n",
    "num = [10]\n",
    "answer = my_function_five(num)\n",
    "print(f'The answer is {answer}')"
   ]
  },
  {
   "cell_type": "code",
   "execution_count": 4,
   "metadata": {},
   "outputs": [
    {
     "name": "stdout",
     "output_type": "stream",
     "text": [
      "The answer is 20\n"
     ]
    }
   ],
   "source": [
    "# Lambda expression\n",
    "my_function_six = lambda num: num * 2\n",
    "answer = my_function_six(10)\n",
    "print(f'The answer is {answer}')"
   ]
  }
 ],
 "metadata": {
  "kernelspec": {
   "display_name": "Python 3",
   "language": "python",
   "name": "python3"
  },
  "language_info": {
   "codemirror_mode": {
    "name": "ipython",
    "version": 3
   },
   "file_extension": ".py",
   "mimetype": "text/x-python",
   "name": "python",
   "nbconvert_exporter": "python",
   "pygments_lexer": "ipython3",
   "version": "3.11.4"
  },
  "orig_nbformat": 4
 },
 "nbformat": 4,
 "nbformat_minor": 2
}
