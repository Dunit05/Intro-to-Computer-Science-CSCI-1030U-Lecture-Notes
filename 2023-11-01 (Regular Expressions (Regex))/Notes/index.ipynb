{
 "cells": [
  {
   "cell_type": "code",
   "execution_count": 2,
   "metadata": {},
   "outputs": [
    {
     "name": "stdout",
     "output_type": "stream",
     "text": [
      "Start:      0\n",
      "End:        8\n",
      "Text:       Benjamin\n",
      "All names:  ['John', 'Jonah', 'Jameson']\n",
      "Start:      0\n",
      "End:        12\n",
      "Text:       905-721-8668\n"
     ]
    }
   ],
   "source": [
    "# Regular Expressions (Regex)\n",
    "\n",
    "# Regular expressions are expressions consisting of very simple rules, which can efficiently recognize regular languages\n",
    "\n",
    "# The re package in Python allows you to easily match strings against regular expressions\n",
    "# regex.match(string) - Find matches at the start of string\n",
    "# regex.search(string) - Find matches within string\n",
    "# regex.findall(string) - Find all matches within string, returned as list\n",
    "# regex.finditer(string) - Find all matches within string, returned as an iterator (can be used in for loops)\n",
    "# re.sub(regex, subst, string) - Substitutes all matches of regex within string, with subst, returned as a string\n",
    "# re.split(regex, string) - Splits up string, using anything matching regex as a separator, returned as a list of strings between the separators\n",
    "\n",
    "import re\n",
    "nameRE = re.compile('[A-Z][a-z]*')\n",
    "match = nameRE.match('Benjamin Button')\n",
    "if match:\n",
    "\tprint('Start:     ', match.start())\n",
    "\tprint('End:       ', match.end())\n",
    "\tprint('Text:      ', match.group())\n",
    "print('All names: ', nameRE.findall('John Jonah Jameson'))\n",
    "\n",
    "phoneRE = re.compile('^(1-)?[0-9]{3}-[0-9]{3}-[0-9]{4}$')\n",
    "match = phoneRE.match('905-721-8668')\n",
    "if match:\n",
    "\tprint('Start:     ', match.start())\n",
    "\tprint('End:       ', match.end())\n",
    "\tprint('Text:      ', match.group())\n",
    "\n",
    "\n",
    "\n",
    "\n",
    "\n",
    "\n",
    "\n"
   ]
  }
 ],
 "metadata": {
  "kernelspec": {
   "display_name": "Python 3",
   "language": "python",
   "name": "python3"
  },
  "language_info": {
   "codemirror_mode": {
    "name": "ipython",
    "version": 3
   },
   "file_extension": ".py",
   "mimetype": "text/x-python",
   "name": "python",
   "nbconvert_exporter": "python",
   "pygments_lexer": "ipython3",
   "version": "3.11.4"
  }
 },
 "nbformat": 4,
 "nbformat_minor": 2
}
