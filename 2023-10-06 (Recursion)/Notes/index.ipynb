{
 "cells": [
  {
   "cell_type": "code",
   "execution_count": null,
   "metadata": {},
   "outputs": [],
   "source": [
    "# Recursion\n",
    "# Defining a function inside another function is called recursion\n",
    "\n",
    "def forever(i):\n",
    "    print(f'forever {i}')\n",
    "    forever(i+1)\n",
    "\n",
    "# forever(1) #! RecursionError: maximum recursion depth exceeded while calling a Python object\n",
    "\n",
    "# Indirect recursion\n",
    "\n",
    "def forever1():\n",
    "   print(\"hello\")\n",
    "   forever2()\n",
    "\n",
    "def forever2():\n",
    "   forever1()\n",
    "\n",
    "# Exit Conditions\n",
    "\n",
    "def repeat(i):\n",
    "    if i < 1:\n",
    "        return\n",
    "    print(f'repeat {i}')\n",
    "    repeat(i - 1)\n",
    "\n",
    "repeat(5)"
   ]
  },
  {
   "cell_type": "code",
   "execution_count": null,
   "metadata": {},
   "outputs": [],
   "source": [
    "# Tail Recursion\n",
    "\n",
    "def print_n_times(n, message):\n",
    "   if n == 0:\n",
    "      return\n",
    "   print(message)\n",
    "   print_n_times(n - 1, message)\n",
    "\n",
    "print_n_times(5, \"Hello World!\")"
   ]
  },
  {
   "cell_type": "code",
   "execution_count": null,
   "metadata": {},
   "outputs": [],
   "source": [
    "# Iterative Conversion\n",
    "\n",
    "# def print_n_times(n, message):\n",
    "#    if n == 0:\n",
    "#       return\n",
    "#    print(message)\n",
    "#    print_n_times(n - 1, message)\n",
    "\n",
    "# To\n",
    "\n",
    "def print_n_times(n, message):\n",
    "   for i in range(n):\n",
    "      print(message)\n",
    "\n",
    "print_n_times(5, \"Hello World!\")\n",
    "\n",
    "#This is a test for commit"
   ]
  }
 ],
 "metadata": {
  "kernelspec": {
   "display_name": "Python 3",
   "language": "python",
   "name": "python3"
  },
  "language_info": {
   "codemirror_mode": {
    "name": "ipython",
    "version": 3
   },
   "file_extension": ".py",
   "mimetype": "text/x-python",
   "name": "python",
   "nbconvert_exporter": "python",
   "pygments_lexer": "ipython3",
   "version": "3.11.4"
  }
 },
 "nbformat": 4,
 "nbformat_minor": 2
}
